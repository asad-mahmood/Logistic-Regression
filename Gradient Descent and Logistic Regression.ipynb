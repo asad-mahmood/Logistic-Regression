{
  "nbformat": 4,
  "nbformat_minor": 0,
  "metadata": {
    "kernelspec": {
      "display_name": "Python 3",
      "language": "python",
      "name": "python3"
    },
    "language_info": {
      "codemirror_mode": {
        "name": "ipython",
        "version": 3
      },
      "file_extension": ".py",
      "mimetype": "text/x-python",
      "name": "python",
      "nbconvert_exporter": "python",
      "pygments_lexer": "ipython3",
      "version": "3.7.3"
    },
    "colab": {
      "name": "HW 3 - Group 12.ipynb",
      "provenance": []
    }
  },
  "cells": [
    {
      "cell_type": "markdown",
      "metadata": {
        "id": "CZyVAKQdgbD8",
        "colab_type": "text"
      },
      "source": [
        "# Logistic Regression"
      ]
    },
    {
      "cell_type": "markdown",
      "metadata": {
        "id": "5xxPIarhgbEC",
        "colab_type": "text"
      },
      "source": [
        " "
      ]
    },
    {
      "cell_type": "markdown",
      "metadata": {
        "id": "uagY0nd-gbEE",
        "colab_type": "text"
      },
      "source": [
        "## Author: Asad Mahmood"
      ]
    },
    {
      "cell_type": "markdown",
      "metadata": {
        "id": "SgEeBcm0gbEF",
        "colab_type": "text"
      },
      "source": [
        "## Problem 1\n",
        "\n",
        "Given the function f(x) = x^2 + 6x:"
      ]
    },
    {
      "cell_type": "markdown",
      "metadata": {
        "id": "dve1qhp4gbEH",
        "colab_type": "text"
      },
      "source": [
        "### Part 1: Use derivative of f(x) to find the value of x that minimizes this function."
      ]
    },
    {
      "cell_type": "code",
      "metadata": {
        "id": "HmXcooeugbEI",
        "colab_type": "code",
        "colab": {}
      },
      "source": [
        "#Importing library to calculate derivatie of the eq, plot the graph\n",
        "import matplotlib.pyplot as plt\n",
        "import numpy as np\n",
        "from numpy import array,  newaxis, expand_dims\n",
        "from sympy import Symbol, Derivative\n",
        "import pandas as pd\n",
        "from pandas import DataFrame\n",
        "import statistics\n",
        "from sklearn.metrics import accuracy_score"
      ],
      "execution_count": null,
      "outputs": []
    },
    {
      "cell_type": "code",
      "metadata": {
        "id": "od4fhXOIgbES",
        "colab_type": "code",
        "colab": {},
        "outputId": "eeeae754-248d-48a2-ffb0-823fe9d91e57"
      },
      "source": [
        "#Defining x as a symbol\n",
        "x = Symbol('x')\n",
        "\n",
        "function = x**2 + 6*x\n",
        "\n",
        "deriv = Derivative(function, x)\n",
        "res = deriv.doit()\n",
        "print(\"The function f(x) having the eq:\", function, \"has the following as its derivative eq: \", res)"
      ],
      "execution_count": null,
      "outputs": [
        {
          "output_type": "stream",
          "text": [
            "The function f(x) having the eq: x**2 + 6*x has the following as its derivative eq:  2*x + 6\n"
          ],
          "name": "stdout"
        }
      ]
    },
    {
      "cell_type": "code",
      "metadata": {
        "id": "h9r6dl-OgbEo",
        "colab_type": "code",
        "colab": {},
        "outputId": "deb5550d-28b7-4535-d6a0-f88714cece45"
      },
      "source": [
        "# Create the vectors X and Y\n",
        "x = np.array(range(-7,2))\n",
        "y = x ** 2 + 6 * x\n",
        "\n",
        "# Create the plot\n",
        "plt.plot(x,y)\n",
        "\n",
        "# Show the plot\n",
        "plt.show()"
      ],
      "execution_count": null,
      "outputs": [
        {
          "output_type": "display_data",
          "data": {
            "image/png": "[encoded data removed]",
            "text/plain": [
              "<Figure size 432x288 with 1 Axes>"
            ]
          },
          "metadata": {
            "tags": [],
            "needs_background": "light"
          }
        }
      ]
    },
    {
      "cell_type": "markdown",
      "metadata": {
        "id": "9ZuXGjUngbEy",
        "colab_type": "text"
      },
      "source": [
        "Seeing the graph it is clear that it’s minimum value when **x = -3** (i.e when x=-3, y= -9)"
      ]
    },
    {
      "cell_type": "code",
      "metadata": {
        "id": "U0l0OmQPgbE3",
        "colab_type": "code",
        "colab": {}
      },
      "source": [
        "#Storing min value of X\n",
        "minX = -3"
      ],
      "execution_count": null,
      "outputs": []
    },
    {
      "cell_type": "markdown",
      "metadata": {
        "id": "o4xet1k5gbFC",
        "colab_type": "text"
      },
      "source": [
        "NOTE: By hand solution is in the attached pdf."
      ]
    },
    {
      "cell_type": "markdown",
      "metadata": {
        "id": "0xzAB6R5gbFE",
        "colab_type": "text"
      },
      "source": [
        "### Part 2: Use gradient descent to find the value of x that minimizes this function. Compare your answer with the previous part."
      ]
    },
    {
      "cell_type": "markdown",
      "metadata": {
        "id": "wh0gL3XngbFG",
        "colab_type": "text"
      },
      "source": [
        "### Initializing Parameters"
      ]
    },
    {
      "cell_type": "code",
      "metadata": {
        "id": "NPTbgNlmgbFH",
        "colab_type": "code",
        "colab": {}
      },
      "source": [
        "# Random value assigned to x_0\n",
        "x_0 = 3\n",
        "\n",
        "# Assigning Learning Rate\n",
        "learningRate = 0.1 # Learning rate"
      ],
      "execution_count": null,
      "outputs": []
    },
    {
      "cell_type": "markdown",
      "metadata": {
        "id": "FJ9FWmAlgbFT",
        "colab_type": "text"
      },
      "source": [
        "### Stopping parameters for the loop"
      ]
    },
    {
      "cell_type": "code",
      "metadata": {
        "id": "YaJqv0HDgbFX",
        "colab_type": "code",
        "colab": {}
      },
      "source": [
        "# Parameter 1 - Tracking iterations, basically stopping when \"iterationCount\" exceds \"maxIterations\".\n",
        "maxIterations = 10000 \n",
        "iterationCount = 0"
      ],
      "execution_count": null,
      "outputs": []
    },
    {
      "cell_type": "code",
      "metadata": {
        "id": "QWrDHAujgbFe",
        "colab_type": "code",
        "colab": {}
      },
      "source": [
        "# Parameter 2 - Tracking difference btw steps and if its smaller than established \"diff\" parameter the loop will stop\n",
        "diff = 0.00000001 \n",
        "prevStepSize = 1 "
      ],
      "execution_count": null,
      "outputs": []
    },
    {
      "cell_type": "markdown",
      "metadata": {
        "id": "NnBn2j3HgbFn",
        "colab_type": "text"
      },
      "source": [
        "### Plugging in derivative of the equation - gradient basically"
      ]
    },
    {
      "cell_type": "code",
      "metadata": {
        "id": "WtLIhrxTgbFo",
        "colab_type": "code",
        "colab": {}
      },
      "source": [
        "eq = lambda x: 2*x + 6"
      ],
      "execution_count": null,
      "outputs": []
    },
    {
      "cell_type": "markdown",
      "metadata": {
        "id": "IHiW4YlngbFu",
        "colab_type": "text"
      },
      "source": [
        "### Performing gradient descent"
      ]
    },
    {
      "cell_type": "code",
      "metadata": {
        "id": "OP1sUX3ogbFw",
        "colab_type": "code",
        "colab": {},
        "outputId": "b27939bb-7544-443d-b100-31cc608ce6a6"
      },
      "source": [
        "while prevStepSize > diff and iterationCount < maxIterations:\n",
        "    prevX = x_0 \n",
        "    \n",
        "    # Gradient descent eq\n",
        "    x_0 = prevX - learningRate * eq(prevX)\n",
        "    \n",
        "    # Value of X updated\n",
        "    prevStepSize = abs(x_0 - prevX)\n",
        "    \n",
        "    #Updating iteration counter\n",
        "    iterationCount += 1\n",
        "    \n",
        "print(\"The local minimum occurs at\", x_0, \"at itertion number\", iterationCount)"
      ],
      "execution_count": null,
      "outputs": [
        {
          "output_type": "stream",
          "text": [
            "The local minimum occurs at -2.9999999652623734 at itertion number 85\n"
          ],
          "name": "stdout"
        }
      ]
    },
    {
      "cell_type": "markdown",
      "metadata": {
        "id": "ixaMd_o3gbF4",
        "colab_type": "text"
      },
      "source": [
        "### Comparison between the results of part 1 and part 2"
      ]
    },
    {
      "cell_type": "code",
      "metadata": {
        "id": "TueBJ5VbgbF6",
        "colab_type": "code",
        "colab": {},
        "outputId": "0efd6588-c0cf-4c5d-aeef-2864212f38d5"
      },
      "source": [
        "diff = minX - x_0\n",
        "print(\"The difference between the min X value found by hand and through programming is: \",diff)"
      ],
      "execution_count": null,
      "outputs": [
        {
          "output_type": "stream",
          "text": [
            "The difference between the min X value found by hand and through programming is:  -3.473762655303858e-08\n"
          ],
          "name": "stdout"
        }
      ]
    },
    {
      "cell_type": "markdown",
      "metadata": {
        "id": "zUlieOS8gbGB",
        "colab_type": "text"
      },
      "source": [
        "This difference is insignificant, but since its not equal to minX value found by hand. The found value is still gonna be called as **\"Local Minimum\"** rather than **\"Global Minimum\"**."
      ]
    },
    {
      "cell_type": "markdown",
      "metadata": {
        "id": "6xsNwauigbGC",
        "colab_type": "text"
      },
      "source": [
        "## Problem 2\n",
        "\n",
        "The Space Shuttle Challenger disaster occurred on January 28, 1986, when it\n",
        "broke apart 73 seconds into its \n",
        "ight, leading to the deaths of its seven crew\n",
        "members. The spacecraft disintegrated over the Atlantic Ocean, o\u000b the coast\n",
        "of central Florida at 11:38 EST. Disintegration of the entire vehicle began afteran O-ring seal in its right solid rocket booster failed at lifto\u000b. Subsequently, a special commission was appointed to investigate the accident.\n",
        "<br>\n",
        "The commission found that NASA disregarded warnings from engineers about the dangers of\n",
        "launching posed by the low temperatures of that morning, claiming that en-\n",
        "gineers could not provide a convincing argument against the launch (source:\n",
        "Wikipedia, Applied Probability for Engineers).\n",
        "<br>\n",
        "File Oring.csv provides data on launch temperature and O-ring failure for\n",
        "the 24-space shuttle launches prior to the Challenger disaster. There are six\n",
        "O-rings used to seal field joints on the rocket motor assembly. A +1 in the\n",
        "O-rings indicates that at least one O-ring failure had occurred on that launch\n",
        "and a 0 indicates that no failure had occurred."
      ]
    },
    {
      "cell_type": "markdown",
      "metadata": {
        "id": "jP3VDskxgbGD",
        "colab_type": "text"
      },
      "source": [
        "### Part 1"
      ]
    },
    {
      "cell_type": "markdown",
      "metadata": {
        "id": "ljS2eI_WgbGE",
        "colab_type": "text"
      },
      "source": [
        "#### Normalize the launch temperature"
      ]
    },
    {
      "cell_type": "code",
      "metadata": {
        "id": "xfFuleLLgbGF",
        "colab_type": "code",
        "colab": {}
      },
      "source": [
        "# Reading in dataset\n",
        "trainData = pd.read_csv(\"ORing.csv\")"
      ],
      "execution_count": null,
      "outputs": []
    },
    {
      "cell_type": "code",
      "metadata": {
        "id": "5TUxs-8WgbGL",
        "colab_type": "code",
        "colab": {}
      },
      "source": [
        "# Separtaing x and y values\n",
        "# Getting all feature columns\n",
        "X = trainData.iloc[:, :-1]\n",
        "\n",
        "# Getting the dependant variable column\n",
        "y = trainData.iloc[:, -1]"
      ],
      "execution_count": null,
      "outputs": []
    },
    {
      "cell_type": "code",
      "metadata": {
        "id": "BVapGrIvgbGS",
        "colab_type": "code",
        "colab": {}
      },
      "source": [
        "# Temp data extraction\n",
        "xValues = trainData.iloc[:,0].values\n",
        "\n",
        "#Calculating mean and standard deviation of temp data\n",
        "xMean = statistics.mean(xValues)\n",
        "xSD = statistics.stdev(xValues)"
      ],
      "execution_count": null,
      "outputs": []
    },
    {
      "cell_type": "code",
      "metadata": {
        "id": "0WQkR-53gbGZ",
        "colab_type": "code",
        "colab": {}
      },
      "source": [
        "#Normalize data\n",
        "Normalized = []\n",
        "for i in range(len(xValues)):\n",
        "    Normalized.append(((xValues[i] - xMean)/xSD,y[i]))"
      ],
      "execution_count": null,
      "outputs": []
    },
    {
      "cell_type": "markdown",
      "metadata": {
        "id": "AFAT5DtBgbGh",
        "colab_type": "text"
      },
      "source": [
        "The data has been scaled using the formula -> (dataPoint - dataMean)/dataStandardDeviation."
      ]
    },
    {
      "cell_type": "markdown",
      "metadata": {
        "id": "HyDdXpLdgbGi",
        "colab_type": "text"
      },
      "source": [
        "### Part 2"
      ]
    },
    {
      "cell_type": "markdown",
      "metadata": {
        "id": "LKHbIEVzgbGl",
        "colab_type": "text"
      },
      "source": [
        "####  Create a logistic regression model using the gradient decent technique to predict the probability of O-ring failure based on the launch temperature. Provide the equation for your model."
      ]
    },
    {
      "cell_type": "code",
      "metadata": {
        "id": "A4g3tzlLgbGm",
        "colab_type": "code",
        "colab": {}
      },
      "source": [
        "#Normalized Temp Dataframe\n",
        "trainNormalizedData = DataFrame(Normalized, columns = ['Temp', 'Faliure'])"
      ],
      "execution_count": null,
      "outputs": []
    },
    {
      "cell_type": "code",
      "metadata": {
        "id": "rN3nSelFgbGs",
        "colab_type": "code",
        "colab": {}
      },
      "source": [
        "X = trainNormalizedData.iloc[:,: -1]\n",
        "y = trainNormalizedData.iloc[:, -1].values"
      ],
      "execution_count": null,
      "outputs": []
    },
    {
      "cell_type": "code",
      "metadata": {
        "id": "P2T_AQbTgbGy",
        "colab_type": "code",
        "colab": {}
      },
      "source": [
        "#This function initializes the weight and intercept.\n",
        "def weightAndIntercept(x):\n",
        "    m = X.shape[0]\n",
        "    n = X.shape[1]\n",
        "    weight = np.zeros((1,n))\n",
        "    intercept = 1\n",
        "    return m, weight, intercept"
      ],
      "execution_count": null,
      "outputs": []
    },
    {
      "cell_type": "code",
      "metadata": {
        "id": "paEW5eSSgbG4",
        "colab_type": "code",
        "colab": {}
      },
      "source": [
        "#This function is the core of logistic regression and it implements the Sigmoid/Logistic function\n",
        "def sigmoid(power):\n",
        "    return 1/(1+np.exp(-power))"
      ],
      "execution_count": null,
      "outputs": []
    },
    {
      "cell_type": "code",
      "metadata": {
        "id": "GvGTQQ4jgbG9",
        "colab_type": "code",
        "colab": {}
      },
      "source": [
        "#This function calculates the power in sigmoid function which has x, weights and the intercept.\n",
        "def sigmoidPowerCalculation(weight, X, intercept):\n",
        "    return np.dot(weight, X.T) + intercept"
      ],
      "execution_count": null,
      "outputs": []
    },
    {
      "cell_type": "code",
      "metadata": {
        "id": "o9US5d07gbHD",
        "colab_type": "code",
        "colab": {}
      },
      "source": [
        "#This function calculates likelihood\n",
        "def likelihoodExpCalculation(m, Y, hx):\n",
        "    return (-1/m)*(np.sum((Y.T*np.log(hx)) + ((1-Y.T)*(np.log(1-hx)))))"
      ],
      "execution_count": null,
      "outputs": []
    },
    {
      "cell_type": "code",
      "metadata": {
        "id": "8Yn7q4CMgbHI",
        "colab_type": "code",
        "colab": {}
      },
      "source": [
        "def gradientCalc(m, x, y, sigPow):\n",
        "    w = (1/m)*(np.dot(x.T, (sigPow - y.T).T))\n",
        "    b = (1/m)*(np.sum(sigPow - y.T))\n",
        "    return w,b"
      ],
      "execution_count": null,
      "outputs": []
    },
    {
      "cell_type": "code",
      "metadata": {
        "id": "XOJsbBoSgbHP",
        "colab_type": "code",
        "colab": {}
      },
      "source": [
        "def Gradient(weight, m, intercept, X, Y):\n",
        "    \n",
        "    #Prediction\n",
        "    sigmoidResult = sigmoid(sigmoidPowerCalculation(weight, X, intercept))\n",
        "    Exp = likelihoodExpCalculation(m, Y, sigmoidResult)\n",
        "    \n",
        "    #Gradient calculation\n",
        "    dw, db = gradientCalc(m, X, Y, sigmoidResult)\n",
        "    \n",
        "    weightAndIntercept = {\"dw\": dw, \"db\": db}\n",
        "    \n",
        "    return weightAndIntercept, Exp"
      ],
      "execution_count": null,
      "outputs": []
    },
    {
      "cell_type": "code",
      "metadata": {
        "id": "zNwmG6LUgbHV",
        "colab_type": "code",
        "colab": {}
      },
      "source": [
        "def model_predict(weight, m, intercept, X, Y, learning_rate, numIterations):\n",
        "\n",
        "    for i in range(numIterations):\n",
        "        #\n",
        "        weightNIntercept, maxLikelihoodExp = Gradient(weight, m, intercept, X, Y)\n",
        "        \n",
        "        dw = weightNIntercept[\"dw\"]\n",
        "        db = weightNIntercept[\"db\"]\n",
        "        \n",
        "        #weight update\n",
        "        weight = weight - (learning_rate * (dw.T))\n",
        "        intercept = intercept - (learning_rate * db)\n",
        "        \n",
        "    #final parameters\n",
        "    coeff = {\"w\": weight, \"b\": intercept}\n",
        "    gradient = {\"dw\": dw, \"db\": db}\n",
        "    \n",
        "    return coeff, gradient"
      ],
      "execution_count": null,
      "outputs": []
    },
    {
      "cell_type": "code",
      "metadata": {
        "id": "nrzno3C8gbHb",
        "colab_type": "code",
        "colab": {},
        "outputId": "678f7918-5ac3-4fab-d790-54fa4157c3f6"
      },
      "source": [
        "# Weight and Intercept\n",
        "m, weight, intercept = weightAndIntercept(X)\n",
        "#Gradient Descent\n",
        "coeff, gradient = model_predict(weight, m ,intercept, X, y, learning_rate=0.01,numIterations=10000)\n",
        "#Final prediction\n",
        "weight = coeff[\"w\"]\n",
        "intercept = coeff[\"b\"]\n",
        "print('Optimized weights', weight)\n",
        "print('Optimized intercept',intercept)"
      ],
      "execution_count": null,
      "outputs": [
        {
          "output_type": "stream",
          "text": [
            "Optimized weights [[-1.25892207]]\n",
            "Optimized intercept -0.9457569267762572\n"
          ],
          "name": "stdout"
        }
      ]
    },
    {
      "cell_type": "markdown",
      "metadata": {
        "id": "FOe0yErJgbHh",
        "colab_type": "text"
      },
      "source": [
        "**Eq:**\n",
        "z = - 0.9457 - 1.2589*(x1)"
      ]
    },
    {
      "cell_type": "markdown",
      "metadata": {
        "id": "wcj23tZdgbHi",
        "colab_type": "text"
      },
      "source": [
        "#### Sklearn implementation"
      ]
    },
    {
      "cell_type": "code",
      "metadata": {
        "id": "fp8-Aqd5gbHj",
        "colab_type": "code",
        "colab": {},
        "outputId": "4d8c7911-fff3-4d15-ef08-47a290d80fec"
      },
      "source": [
        "from sklearn.linear_model import LogisticRegression\n",
        "model = LogisticRegression()\n",
        "model.fit(X, y)\n",
        "model.intercept_, model.coef_"
      ],
      "execution_count": null,
      "outputs": [
        {
          "output_type": "stream",
          "text": [
            "C:\\Users\\Asad Mahmood\\Anaconda3\\lib\\site-packages\\sklearn\\linear_model\\logistic.py:432: FutureWarning: Default solver will be changed to 'lbfgs' in 0.22. Specify a solver to silence this warning.\n",
            "  FutureWarning)\n"
          ],
          "name": "stderr"
        },
        {
          "output_type": "execute_result",
          "data": {
            "text/plain": [
              "(array([-0.73503628]), array([[-0.93687279]]))"
            ]
          },
          "metadata": {
            "tags": []
          },
          "execution_count": 25
        }
      ]
    },
    {
      "cell_type": "markdown",
      "metadata": {
        "id": "7S-djoMAgbHp",
        "colab_type": "text"
      },
      "source": [
        "### Part 3"
      ]
    },
    {
      "cell_type": "markdown",
      "metadata": {
        "id": "73HVVM-NgbHq",
        "colab_type": "text"
      },
      "source": [
        "####  Provide a plot of the original data along with your logistic model."
      ]
    },
    {
      "cell_type": "code",
      "metadata": {
        "id": "kAiOWXo5gbHr",
        "colab_type": "code",
        "colab": {},
        "outputId": "6308f52b-bbc7-4e9c-f72d-4f62fe206537"
      },
      "source": [
        "X.values"
      ],
      "execution_count": null,
      "outputs": [
        {
          "output_type": "execute_result",
          "data": {
            "text/plain": [
              "array([[-2.17732422],\n",
              "       [-1.76907593],\n",
              "       [-1.63299316],\n",
              "       [-0.81649658],\n",
              "       [-0.40824829],\n",
              "       [-0.27216553],\n",
              "       [-0.27216553],\n",
              "       [-0.27216553],\n",
              "       [-0.13608276],\n",
              "       [ 0.        ],\n",
              "       [ 0.13608276],\n",
              "       [ 0.13608276],\n",
              "       [ 0.13608276],\n",
              "       [ 0.13608276],\n",
              "       [ 0.40824829],\n",
              "       [ 0.54433105],\n",
              "       [ 0.81649658],\n",
              "       [ 0.81649658],\n",
              "       [ 0.95257934],\n",
              "       [ 0.95257934],\n",
              "       [ 1.22474487],\n",
              "       [ 1.36082763],\n",
              "       [ 1.4969104 ],\n",
              "       [ 1.63299316]])"
            ]
          },
          "metadata": {
            "tags": []
          },
          "execution_count": 26
        }
      ]
    },
    {
      "cell_type": "code",
      "metadata": {
        "id": "CldKLdJ1gbHy",
        "colab_type": "code",
        "colab": {}
      },
      "source": [
        "XVal = trainNormalizedData.iloc[:, :-1]\n",
        "\n",
        "# y = target values, last column of the data frame\n",
        "y = trainNormalizedData.iloc[:, -1]"
      ],
      "execution_count": null,
      "outputs": []
    },
    {
      "cell_type": "code",
      "metadata": {
        "id": "_ckWwvncgbH3",
        "colab_type": "code",
        "colab": {},
        "outputId": "58114ec8-ee81-45d5-ceb3-8ab5c26399a3"
      },
      "source": [
        "# Faliure and no faliure\n",
        "faliure = trainNormalizedData.loc[y == 1]\n",
        "noFaliure = trainNormalizedData.loc[y == 0]\n",
        "\n",
        "#Eq\n",
        "Y = 1/(1 + np.exp(-(-0.9457 - (1.2589 * XVal))))\n",
        "\n",
        "# plots\n",
        "plt.scatter(faliure.iloc[:, 0], faliure.iloc[:, 1], s=10, label='Faliure Detected')\n",
        "plt.scatter(noFaliure.iloc[:, 0], noFaliure.iloc[:, 1], s=10, label='No Faliure Detected')\n",
        "plt.plot(XVal,Y)\n",
        "plt.legend()\n",
        "plt.show()"
      ],
      "execution_count": null,
      "outputs": [
        {
          "output_type": "display_data",
          "data": {
            "image/png": "[encoded data removed]",
            "text/plain": [
              "<Figure size 432x288 with 1 Axes>"
            ]
          },
          "metadata": {
            "tags": [],
            "needs_background": "light"
          }
        }
      ]
    },
    {
      "cell_type": "markdown",
      "metadata": {
        "id": "o74P50cFgbH9",
        "colab_type": "text"
      },
      "source": [
        "### Part 4"
      ]
    },
    {
      "cell_type": "markdown",
      "metadata": {
        "id": "stkQmoEIgbH-",
        "colab_type": "text"
      },
      "source": [
        "##### The actual temperature at the Challenger launch was 31 degrees Fahrenheit. According to your model what was the probability of O-ring failure on the Challenger launch? Could the engineers have used your model to provide a convincing argument to NASA? Elaborate."
      ]
    },
    {
      "cell_type": "code",
      "metadata": {
        "id": "ZiUO9CzVgbH_",
        "colab_type": "code",
        "colab": {}
      },
      "source": [
        "#Label Decision\n",
        "def labelDecision(testpt, trainMean, trainSD, weight, intercept):\n",
        "    test = (testpt-trainMean)/trainSD\n",
        "    temparr = np.array(test)\n",
        "    testPredProb = sigmoid(sigmoidPowerCalculation(weight, temparr, intercept))\n",
        "    if testPredProb > 0.5:\n",
        "        prob = 1\n",
        "    else:\n",
        "        prob = 0\n",
        "    return prob, testPredProb"
      ],
      "execution_count": null,
      "outputs": []
    },
    {
      "cell_type": "code",
      "metadata": {
        "id": "1BFFQm5qgbIE",
        "colab_type": "code",
        "colab": {}
      },
      "source": [
        "# Test point\n",
        "tpt = 31"
      ],
      "execution_count": null,
      "outputs": []
    },
    {
      "cell_type": "code",
      "metadata": {
        "id": "eI_eJdyBgbIN",
        "colab_type": "code",
        "colab": {},
        "outputId": "0de722e0-cb1f-4f2f-d22b-80aabd2894df"
      },
      "source": [
        "predictedLabel, predProb = labelDecision(tpt, xMean, xSD, weight, intercept)\n",
        "print(\"Predicted label:\", predictedLabel)\n",
        "print(\"Predicted probability:\", predProb)"
      ],
      "execution_count": null,
      "outputs": [
        {
          "output_type": "stream",
          "text": [
            "Predicted label: 1\n",
            "Predicted probability: [[0.99618241]]\n"
          ],
          "name": "stdout"
        }
      ]
    },
    {
      "cell_type": "markdown",
      "metadata": {
        "id": "0j8e-hSmgbIS",
        "colab_type": "text"
      },
      "source": [
        "At the provided temp my model is predicting a probability of 0.996 that a faliure in O Ring is imminent. But since we have very few data points and they are also scattered as can be seen from the plot above. I wouldn't recommend the launch because of the results gathered through exsisting data points.But there could be other factors at play as well which haven't been taken into account. In conclusion, I wouldn't recommend using our model as a tool for convincing NASA."
      ]
    },
    {
      "cell_type": "code",
      "metadata": {
        "id": "9-omqZeKgbIT",
        "colab_type": "code",
        "colab": {}
      },
      "source": [
        ""
      ],
      "execution_count": null,
      "outputs": []
    }
  ]
}